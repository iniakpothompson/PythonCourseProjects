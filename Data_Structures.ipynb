{
  "nbformat": 4,
  "nbformat_minor": 0,
  "metadata": {
    "colab": {
      "name": "Data-Structures",
      "provenance": [],
      "include_colab_link": true
    },
    "kernelspec": {
      "name": "python3",
      "display_name": "Python 3"
    }
  },
  "cells": [
    {
      "cell_type": "markdown",
      "metadata": {
        "id": "view-in-github",
        "colab_type": "text"
      },
      "source": [
        "<a href=\"https://colab.research.google.com/github/iniakpothompson/PythonCourseProjects/blob/master/Data_Structures.ipynb\" target=\"_parent\"><img src=\"https://colab.research.google.com/assets/colab-badge.svg\" alt=\"Open In Colab\"/></a>"
      ]
    },
    {
      "cell_type": "code",
      "metadata": {
        "id": "9Cbo41kW024u",
        "colab_type": "code",
        "outputId": "5e283c1b-8c39-419f-a41c-fea9db5e9fc5",
        "colab": {
          "base_uri": "https://localhost:8080/",
          "height": 34
        }
      },
      "source": [
        "a=2\n",
        "a=a+3\n",
        "print(a)"
      ],
      "execution_count": 0,
      "outputs": [
        {
          "output_type": "stream",
          "text": [
            "5\n"
          ],
          "name": "stdout"
        }
      ]
    },
    {
      "cell_type": "markdown",
      "metadata": {
        "id": "4Qx8sX4Y8Fp1",
        "colab_type": "text"
      },
      "source": [
        "Do not use key words as variable names\n",
        "In the case of any errors that is that does not allow you continue, then click on the reset kernel in you local machine notebook, or if using colab click the restart rutime button inside the tools menu"
      ]
    },
    {
      "cell_type": "code",
      "metadata": {
        "id": "o3XAy6R642EL",
        "colab_type": "code",
        "outputId": "63114e94-3889-450c-e9ed-b297863ad757",
        "colab": {
          "base_uri": "https://localhost:8080/",
          "height": 34
        }
      },
      "source": [
        "type(a)"
      ],
      "execution_count": 0,
      "outputs": [
        {
          "output_type": "execute_result",
          "data": {
            "text/plain": [
              "int"
            ]
          },
          "metadata": {
            "tags": []
          },
          "execution_count": 4
        }
      ]
    },
    {
      "cell_type": "markdown",
      "metadata": {
        "id": "1jeDFT_H5_2B",
        "colab_type": "text"
      },
      "source": [
        "List Data Structures"
      ]
    },
    {
      "cell_type": "code",
      "metadata": {
        "id": "UP7-XDdQ7lGS",
        "colab_type": "code",
        "colab": {}
      },
      "source": [
        ""
      ],
      "execution_count": 0,
      "outputs": []
    }
  ]
}