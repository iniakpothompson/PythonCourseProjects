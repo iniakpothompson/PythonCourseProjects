{
  "nbformat": 4,
  "nbformat_minor": 0,
  "metadata": {
    "colab": {
      "name": "Data-Structures",
      "provenance": [],
      "collapsed_sections": [],
      "include_colab_link": true
    },
    "kernelspec": {
      "name": "python3",
      "display_name": "Python 3"
    }
  },
  "cells": [
    {
      "cell_type": "markdown",
      "metadata": {
        "id": "view-in-github",
        "colab_type": "text"
      },
      "source": [
        "<a href=\"https://colab.research.google.com/github/iniakpothompson/PythonCourseProjects/blob/master/Data_Structures.ipynb\" target=\"_parent\"><img src=\"https://colab.research.google.com/assets/colab-badge.svg\" alt=\"Open In Colab\"/></a>"
      ]
    },
    {
      "cell_type": "code",
      "metadata": {
        "id": "9Cbo41kW024u",
        "colab_type": "code",
        "outputId": "5e283c1b-8c39-419f-a41c-fea9db5e9fc5",
        "colab": {
          "base_uri": "https://localhost:8080/",
          "height": 34
        }
      },
      "source": [
        "a=2\n",
        "a=a+3\n",
        "print(a)"
      ],
      "execution_count": 0,
      "outputs": [
        {
          "output_type": "stream",
          "text": [
            "5\n"
          ],
          "name": "stdout"
        }
      ]
    },
    {
      "cell_type": "markdown",
      "metadata": {
        "id": "4Qx8sX4Y8Fp1",
        "colab_type": "text"
      },
      "source": [
        "Do not use key words as variable names\n",
        "In the case of any errors that is that does not allow you continue, then click on the reset kernel in you local machine notebook, or if using colab click the restart rutime button inside the tools menu"
      ]
    },
    {
      "cell_type": "code",
      "metadata": {
        "id": "o3XAy6R642EL",
        "colab_type": "code",
        "outputId": "91e22049-8f07-4ad9-8cbc-6fd794dc011c",
        "colab": {
          "base_uri": "https://localhost:8080/",
          "height": 34
        }
      },
      "source": [
        "type(a)"
      ],
      "execution_count": 5,
      "outputs": [
        {
          "output_type": "execute_result",
          "data": {
            "text/plain": [
              "int"
            ]
          },
          "metadata": {
            "tags": []
          },
          "execution_count": 5
        }
      ]
    },
    {
      "cell_type": "markdown",
      "metadata": {
        "id": "1jeDFT_H5_2B",
        "colab_type": "text"
      },
      "source": [
        "List Data Structures"
      ]
    },
    {
      "cell_type": "code",
      "metadata": {
        "id": "UP7-XDdQ7lGS",
        "colab_type": "code",
        "colab": {
          "base_uri": "https://localhost:8080/",
          "height": 34
        },
        "outputId": "c9b9baad-4f22-4641-849b-ae8b0ffa4ac7"
      },
      "source": [
        "my_list=[1,2,3]\n",
        "len(my_list)"
      ],
      "execution_count": 6,
      "outputs": [
        {
          "output_type": "execute_result",
          "data": {
            "text/plain": [
              "3"
            ]
          },
          "metadata": {
            "tags": []
          },
          "execution_count": 6
        }
      ]
    },
    {
      "cell_type": "code",
      "metadata": {
        "id": "I7QctKdi_LYo",
        "colab_type": "code",
        "colab": {
          "base_uri": "https://localhost:8080/",
          "height": 34
        },
        "outputId": "8c67297b-ce32-41d1-ae93-f77433d7dc5a"
      },
      "source": [
        "my_list=['Thompson Peter Iniakpokeikiye', 31, 5]\n",
        "my_list[0]"
      ],
      "execution_count": 7,
      "outputs": [
        {
          "output_type": "execute_result",
          "data": {
            "text/plain": [
              "'Thompson Peter Iniakpokeikiye'"
            ]
          },
          "metadata": {
            "tags": []
          },
          "execution_count": 7
        }
      ]
    },
    {
      "cell_type": "markdown",
      "metadata": {
        "id": "2i5HeLrr_yXr",
        "colab_type": "text"
      },
      "source": [
        "Selects the content of the first index in the List"
      ]
    },
    {
      "cell_type": "code",
      "metadata": {
        "id": "QV8OTKTt_pNC",
        "colab_type": "code",
        "colab": {
          "base_uri": "https://localhost:8080/",
          "height": 34
        },
        "outputId": "274b2f29-2ec9-4e6b-adbf-34b8a2933d61"
      },
      "source": [
        "my_list[1:]"
      ],
      "execution_count": 10,
      "outputs": [
        {
          "output_type": "execute_result",
          "data": {
            "text/plain": [
              "[31, 5]"
            ]
          },
          "metadata": {
            "tags": []
          },
          "execution_count": 10
        }
      ]
    },
    {
      "cell_type": "markdown",
      "metadata": {
        "id": "4F3sy622AOe8",
        "colab_type": "text"
      },
      "source": [
        "Selects from index 1 to the last index"
      ]
    },
    {
      "cell_type": "code",
      "metadata": {
        "id": "e83MEOoaAIc_",
        "colab_type": "code",
        "colab": {
          "base_uri": "https://localhost:8080/",
          "height": 34
        },
        "outputId": "b60825c8-a926-462c-9d7f-818885a990c5"
      },
      "source": [
        "my_list"
      ],
      "execution_count": 11,
      "outputs": [
        {
          "output_type": "execute_result",
          "data": {
            "text/plain": [
              "['Thompson Peter Iniakpokeikiye', 31, 5]"
            ]
          },
          "metadata": {
            "tags": []
          },
          "execution_count": 11
        }
      ]
    },
    {
      "cell_type": "code",
      "metadata": {
        "id": "R_ZMb_hiAieq",
        "colab_type": "code",
        "colab": {
          "base_uri": "https://localhost:8080/",
          "height": 51
        },
        "outputId": "6ee17e05-ca7b-46a5-f90d-a8ce6bffc070"
      },
      "source": [
        "nextlist=['great', 'man', 'is here']\n",
        "\n",
        "my_list,my_list+nextlist"
      ],
      "execution_count": 15,
      "outputs": [
        {
          "output_type": "execute_result",
          "data": {
            "text/plain": [
              "(['Thompson Peter Iniakpokeikiye', 31, 5],\n",
              " ['Thompson Peter Iniakpokeikiye', 31, 5, 'great', 'man', 'is here'])"
            ]
          },
          "metadata": {
            "tags": []
          },
          "execution_count": 15
        }
      ]
    },
    {
      "cell_type": "markdown",
      "metadata": {
        "id": "tL5umr-zBJ_4",
        "colab_type": "text"
      },
      "source": [
        "Lists can be concantinated\n",
        "Even though the result list is not permanently saved, except it is explicitly saved by assigning the concantination result to a vairable"
      ]
    },
    {
      "cell_type": "code",
      "metadata": {
        "id": "pO4AV7PxBH2x",
        "colab_type": "code",
        "colab": {
          "base_uri": "https://localhost:8080/",
          "height": 34
        },
        "outputId": "3d90efa4-12b6-4337-d3c6-5c688829062a"
      },
      "source": [
        "savedlist=my_list+nextlist\n",
        "savedlist"
      ],
      "execution_count": 13,
      "outputs": [
        {
          "output_type": "execute_result",
          "data": {
            "text/plain": [
              "['Thompson Peter Iniakpokeikiye', 31, 5, 'great', 'man', 'is here']"
            ]
          },
          "metadata": {
            "tags": []
          },
          "execution_count": 13
        }
      ]
    },
    {
      "cell_type": "code",
      "metadata": {
        "id": "qU_97-PjBefU",
        "colab_type": "code",
        "colab": {
          "base_uri": "https://localhost:8080/",
          "height": 34
        },
        "outputId": "12d0cec7-110c-4d3f-9888-383680704943"
      },
      "source": [
        "savedlist[0]='changed to Progress'\n",
        "savedlist"
      ],
      "execution_count": 19,
      "outputs": [
        {
          "output_type": "execute_result",
          "data": {
            "text/plain": [
              "['changed to Progress', 31, 5, 'great', 'man', 'is here']"
            ]
          },
          "metadata": {
            "tags": []
          },
          "execution_count": 19
        }
      ]
    },
    {
      "cell_type": "markdown",
      "metadata": {
        "id": "khacxSBxClMu",
        "colab_type": "text"
      },
      "source": [
        "Lists are mutable( meaning the content of a list can be changed)\n"
      ]
    },
    {
      "cell_type": "code",
      "metadata": {
        "id": "rT_rJfk-Dr75",
        "colab_type": "code",
        "colab": {
          "base_uri": "https://localhost:8080/",
          "height": 34
        },
        "outputId": "a17e3ba7-c04b-46f4-a357-49316f12460e"
      },
      "source": [
        "savedlist.append('new item')\n",
        "savedlist"
      ],
      "execution_count": 20,
      "outputs": [
        {
          "output_type": "execute_result",
          "data": {
            "text/plain": [
              "['changed to Progress', 31, 5, 'great', 'man', 'is here', 'new item']"
            ]
          },
          "metadata": {
            "tags": []
          },
          "execution_count": 20
        }
      ]
    },
    {
      "cell_type": "markdown",
      "metadata": {
        "id": "boDIRmHsDt-8",
        "colab_type": "text"
      },
      "source": [
        "the append function is used to add items to the end of a list object"
      ]
    },
    {
      "cell_type": "code",
      "metadata": {
        "id": "EuxRRvspEEal",
        "colab_type": "code",
        "colab": {
          "base_uri": "https://localhost:8080/",
          "height": 34
        },
        "outputId": "28b6d94c-7fa0-468d-8b71-941f71b58d84"
      },
      "source": [
        "my_list.append(6)\n",
        "my_list.append(8)\n",
        "my_list.append('Thompson Peter Iniakpokeikiye')\n",
        "my_list\n",
        "#popedValue=my_list.pop()\n",
        "#printpopedValue"
      ],
      "execution_count": 23,
      "outputs": [
        {
          "output_type": "execute_result",
          "data": {
            "text/plain": [
              "[6, 8, 'Thompson Peter Iniakpokeikiye']"
            ]
          },
          "metadata": {
            "tags": []
          },
          "execution_count": 23
        }
      ]
    },
    {
      "cell_type": "code",
      "metadata": {
        "id": "uoFLxc5PFadl",
        "colab_type": "code",
        "colab": {
          "base_uri": "https://localhost:8080/",
          "height": 34
        },
        "outputId": "4e8312a6-9daa-419d-e1c9-4fa11f9a2e93"
      },
      "source": [
        "popedValue=savedlist.pop()\n",
        "popedValue"
      ],
      "execution_count": 27,
      "outputs": [
        {
          "output_type": "execute_result",
          "data": {
            "text/plain": [
              "'new item'"
            ]
          },
          "metadata": {
            "tags": []
          },
          "execution_count": 27
        }
      ]
    },
    {
      "cell_type": "code",
      "metadata": {
        "id": "-NM1S9-MFqxp",
        "colab_type": "code",
        "colab": {
          "base_uri": "https://localhost:8080/",
          "height": 34
        },
        "outputId": "84f966bd-474d-4be8-f47f-799667109fd1"
      },
      "source": [
        "savedlist"
      ],
      "execution_count": 28,
      "outputs": [
        {
          "output_type": "execute_result",
          "data": {
            "text/plain": [
              "['changed to Progress', 31, 5, 'great', 'man', 'is here']"
            ]
          },
          "metadata": {
            "tags": []
          },
          "execution_count": 28
        }
      ]
    },
    {
      "cell_type": "code",
      "metadata": {
        "id": "XqmV7xQcGsVb",
        "colab_type": "code",
        "colab": {
          "base_uri": "https://localhost:8080/",
          "height": 34
        },
        "outputId": "0cdd7703-094e-45f3-f9ee-7e8602f13477"
      },
      "source": [
        "savedlist.pop(1)"
      ],
      "execution_count": 29,
      "outputs": [
        {
          "output_type": "execute_result",
          "data": {
            "text/plain": [
              "31"
            ]
          },
          "metadata": {
            "tags": []
          },
          "execution_count": 29
        }
      ]
    },
    {
      "cell_type": "code",
      "metadata": {
        "id": "PkDng65EG5ea",
        "colab_type": "code",
        "colab": {
          "base_uri": "https://localhost:8080/",
          "height": 34
        },
        "outputId": "93c1c37f-f1fd-44f0-9ffe-c349c9eb039b"
      },
      "source": [
        "savedlist"
      ],
      "execution_count": 30,
      "outputs": [
        {
          "output_type": "execute_result",
          "data": {
            "text/plain": [
              "['changed to Progress', 5, 'great', 'man', 'is here']"
            ]
          },
          "metadata": {
            "tags": []
          },
          "execution_count": 30
        }
      ]
    },
    {
      "cell_type": "markdown",
      "metadata": {
        "id": "eBEAGXp0EFs5",
        "colab_type": "text"
      },
      "source": [
        "pop() function is used to remove an item from the end of a list and the poped item can also be saved into a variable for later use.\n",
        "You can specify the index you want to pop out of the list as well. But by default; that is if no index is provided, it makes use of index number -1 which is the end of the list"
      ]
    },
    {
      "cell_type": "code",
      "metadata": {
        "id": "RXlWMqaoHki5",
        "colab_type": "code",
        "colab": {
          "base_uri": "https://localhost:8080/",
          "height": 34
        },
        "outputId": "bde1b6ca-3ede-4a06-c95d-f1a274a1b786"
      },
      "source": [
        "numlist=[1,6,4,9]\n",
        "alphbetlist=['b','d','k','a','c']\n",
        "numlist.sort()\n",
        "numlist"
      ],
      "execution_count": 33,
      "outputs": [
        {
          "output_type": "execute_result",
          "data": {
            "text/plain": [
              "[1, 4, 6, 9]"
            ]
          },
          "metadata": {
            "tags": []
          },
          "execution_count": 33
        }
      ]
    },
    {
      "cell_type": "code",
      "metadata": {
        "id": "whmhO0klI3og",
        "colab_type": "code",
        "colab": {
          "base_uri": "https://localhost:8080/",
          "height": 34
        },
        "outputId": "59df3b06-5ef9-43ae-f408-5aff0309add7"
      },
      "source": [
        "numlist.reverse()\n",
        "numlist"
      ],
      "execution_count": 34,
      "outputs": [
        {
          "output_type": "execute_result",
          "data": {
            "text/plain": [
              "[9, 6, 4, 1]"
            ]
          },
          "metadata": {
            "tags": []
          },
          "execution_count": 34
        }
      ]
    },
    {
      "cell_type": "code",
      "metadata": {
        "id": "TiaT9sqtHtpJ",
        "colab_type": "code",
        "colab": {
          "base_uri": "https://localhost:8080/",
          "height": 34
        },
        "outputId": "e550df82-2978-4730-a225-de222732f6a1"
      },
      "source": [
        "alphbetlist.sort()\n",
        "alphbetlist"
      ],
      "execution_count": 36,
      "outputs": [
        {
          "output_type": "execute_result",
          "data": {
            "text/plain": [
              "['a', 'b', 'c', 'd', 'k']"
            ]
          },
          "metadata": {
            "tags": []
          },
          "execution_count": 36
        }
      ]
    },
    {
      "cell_type": "code",
      "metadata": {
        "id": "cGJWjyp2JCT5",
        "colab_type": "code",
        "colab": {
          "base_uri": "https://localhost:8080/",
          "height": 34
        },
        "outputId": "fcbe1774-65fb-49ec-9866-4b47533f5bec"
      },
      "source": [
        "alphbetlist.reverse()\n",
        "alphbetlist"
      ],
      "execution_count": 37,
      "outputs": [
        {
          "output_type": "execute_result",
          "data": {
            "text/plain": [
              "['k', 'd', 'c', 'b', 'a']"
            ]
          },
          "metadata": {
            "tags": []
          },
          "execution_count": 37
        }
      ]
    },
    {
      "cell_type": "code",
      "metadata": {
        "id": "54FsBTC5JLgk",
        "colab_type": "code",
        "colab": {}
      },
      "source": [
        ""
      ],
      "execution_count": 0,
      "outputs": []
    }
  ]
}